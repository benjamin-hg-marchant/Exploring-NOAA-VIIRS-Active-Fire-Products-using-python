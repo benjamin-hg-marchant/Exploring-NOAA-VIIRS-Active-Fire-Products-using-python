{
 "cells": [
  {
   "cell_type": "markdown",
   "id": "d4f12623",
   "metadata": {},
   "source": [
    "<div style=\"background-color:#3c3d41;padding:30px;border-radius:5px\">\n",
    "\n",
    "<h1 style=\"font-size:22px;color:white;margin-top:0px\">\n",
    "Aggrgeation of NOAA VIIRS I-Bands Fire Pixel and DCOMP Products\n",
    "</h1>\n",
    "\n",
    "<p style=\"font-size:14px;color:white\">\n",
    "Author: Benjamin Marchant<br>\n",
    "License: CC BY 4.0\n",
    "</p>\n",
    "  \n",
    "</div>"
   ]
  },
  {
   "cell_type": "code",
   "execution_count": 8,
   "id": "7bb798c4",
   "metadata": {},
   "outputs": [],
   "source": [
    "from calendar import monthrange\n",
    "\n",
    "import netCDF4\n",
    "import numpy as np\n",
    "import numpy.ma as ma\n",
    "import pandas as pd\n",
    "import glob\n",
    "import re\n",
    "import matplotlib.pyplot as plt\n",
    "import matplotlib as mpl\n",
    "import cartopy.crs as ccrs\n",
    "import random\n",
    "import re\n",
    "import warnings\n",
    "\n",
    "warnings.filterwarnings('ignore')"
   ]
  },
  {
   "cell_type": "code",
   "execution_count": 9,
   "id": "7a8e5bad",
   "metadata": {},
   "outputs": [],
   "source": [
    "root = '/Volumes/HD2/Datasets/Research'"
   ]
  },
  {
   "cell_type": "code",
   "execution_count": 10,
   "id": "851fedf7",
   "metadata": {},
   "outputs": [],
   "source": [
    "year = 2023\n",
    "month = 2\n",
    "day = 20"
   ]
  },
  {
   "cell_type": "code",
   "execution_count": 11,
   "id": "1243f7d6",
   "metadata": {},
   "outputs": [
    {
     "name": "stdout",
     "output_type": "stream",
     "text": [
      "1013\n"
     ]
    }
   ],
   "source": [
    "platform = 'SNPP'\n",
    "product = 'SNPP_VIIRS_AF_I-Band_EDR_NRT'\n",
    "\n",
    "AF_IBand_Files = glob.glob('{}/NOAA_AWS/{}/VIIRS/{}/{:04d}/{:04d}_{:02d}_{:02d}/*.nc'.format(root,platform,product,year,year,month,day))\n",
    "\n",
    "print( len(AF_IBand_Files) )"
   ]
  },
  {
   "cell_type": "code",
   "execution_count": 12,
   "id": "b2cc0c09",
   "metadata": {},
   "outputs": [
    {
     "name": "stdout",
     "output_type": "stream",
     "text": [
      "1003\n"
     ]
    }
   ],
   "source": [
    "platform = 'SNPP'\n",
    "product = 'SNPP_VIIRS_Cloud_Mask_EDR'\n",
    "\n",
    "Cloud_Mask_Files = glob.glob('{}/NOAA_AWS/{}/VIIRS/{}/{:04d}/{:04d}_{:02d}_{:02d}/*.nc'.format(root,platform,product,year,year,month,day))\n",
    "\n",
    "print( len(Cloud_Mask_Files) )"
   ]
  },
  {
   "cell_type": "code",
   "execution_count": 13,
   "id": "9b521c6d",
   "metadata": {},
   "outputs": [
    {
     "name": "stdout",
     "output_type": "stream",
     "text": [
      "542\n"
     ]
    }
   ],
   "source": [
    "platform = 'SNPP'\n",
    "product = 'SNPP_VIIRS_Daytime_Cloud_Optical_and_Microphysical_Properties_DCOMP_EDR'\n",
    "\n",
    "DCOMP_Files = glob.glob('{}/NOAA_AWS/{}/VIIRS/{}/{:04d}/{:04d}_{:02d}_{:02d}/*.nc'.format(root,platform,product,year,year,month,day))\n",
    "\n",
    "print( len(DCOMP_Files) )"
   ]
  },
  {
   "cell_type": "code",
   "execution_count": 14,
   "id": "4f3e569e",
   "metadata": {
    "scrolled": false
   },
   "outputs": [
    {
     "name": "stdout",
     "output_type": "stream",
     "text": [
      "0\n",
      "100\n",
      "200\n",
      "300\n",
      "400\n",
      "500\n",
      "600\n",
      "700\n",
      "800\n",
      "900\n",
      "1000\n",
      "CPU times: user 4min 32s, sys: 33.4 s, total: 5min 6s\n",
      "Wall time: 5min 37s\n"
     ]
    }
   ],
   "source": [
    "%%time\n",
    "\n",
    "df = pd.DataFrame()\n",
    "\n",
    "for idx,AF_IBand_File in enumerate(AF_IBand_Files):\n",
    "    \n",
    "    if idx % 100 == 0: print(idx)\n",
    "    \n",
    "    filename = AF_IBand_File.split('/')[-1]\n",
    "    \n",
    "    m = re.search('AF-Iband_v1r1_npp_s(.*)_e(.*)_c(.*).nc', filename)\n",
    "    \n",
    "    date = m.group(1)[0:8]\n",
    "    time = m.group(1)[8:15]\n",
    "    \n",
    "    timestamp = '{}{}'.format(date,time)\n",
    "    \n",
    "    Cloud_Mask_File = ''\n",
    "    \n",
    "    Cloud_Mask_File_List = [f for f in Cloud_Mask_Files if timestamp in f]\n",
    "    \n",
    "    DCOMP_File = ''\n",
    "    \n",
    "    DCOMP_File_List = [f for f in DCOMP_Files if timestamp in f]\n",
    "    \n",
    "    find_match_file = True\n",
    "    if not len(Cloud_Mask_File_List) > 0: find_match_file = False\n",
    "    if not len(DCOMP_File_List) > 0: find_match_file = False\n",
    "    \n",
    "    if find_match_file:\n",
    "        \n",
    "        Cloud_Mask_File = Cloud_Mask_File_List[0]\n",
    "        DCOMP_File = DCOMP_File_List[0]\n",
    "\n",
    "        df_new = pd.DataFrame()\n",
    "\n",
    "        #print(granule_year,granule_month,granule_day)\n",
    "\n",
    "        f = netCDF4.Dataset(AF_IBand_File)\n",
    "        \n",
    "        fmg = f.groups['Fire Mask']\n",
    "        \n",
    "        fire_mask_v = fmg.variables['fire_mask']\n",
    "        \n",
    "        data =  ma.getdata(fire_mask_v)\n",
    "        \n",
    "        #print(data.shape)\n",
    "        \n",
    "        fpg = f.groups['Fire Pixels']\n",
    "\n",
    "        for name in ['FP_line',\n",
    " 'FP_sample',\n",
    " 'FP_latitude',\n",
    " 'FP_longitude',\n",
    " 'FP_T4',\n",
    " 'FP_T5',\n",
    " 'FP_MeanT4',\n",
    " 'FP_MeanT5',\n",
    " 'FP_MeanDT',\n",
    " 'FP_MAD_T4',\n",
    " 'FP_MAD_T5',\n",
    " 'FP_MAD_DT',\n",
    " 'FP_power',\n",
    " 'FP_Rad13',\n",
    " 'FP_MeanRad13',\n",
    " 'FP_AdjCloud',\n",
    " 'FP_AdjWater',\n",
    " 'FP_WinSize',\n",
    " 'FP_confidence',\n",
    " 'FP_day',\n",
    " 'FP_SolZenAng',\n",
    " 'FP_SolAzAng',\n",
    " 'FP_ViewZenAng',\n",
    " 'FP_ViewAzAng',\n",
    " 'FP_PersistentAnomalyCategory']:\n",
    "\n",
    "            data_obj = fpg.variables[name]\n",
    "\n",
    "            data =  ma.getdata(data_obj)\n",
    "            \n",
    "            #print(data.shape)\n",
    "\n",
    "            df_new[name] = data.ravel()   \n",
    "\n",
    "        df_new['Day_Night_Flag'] = f.day_night_data_flag  \n",
    "\n",
    "        f.close()\n",
    "        \n",
    "        if not df_new.empty:\n",
    "            \n",
    "            dfg = pd.DataFrame()\n",
    "        \n",
    "            f = netCDF4.Dataset(Cloud_Mask_File)\n",
    "                        \n",
    "            data = f.variables['CloudMask']\n",
    "\n",
    "            data = ma.getdata(data)\n",
    "            \n",
    "            data = np.kron(data, np.ones((2,2)))\n",
    "            \n",
    "            #print('YES')\n",
    "            #print(data.shape)\n",
    "            \n",
    "            x_axis_size = data.shape[1]\n",
    "            y_axis_size = data.shape[0] \n",
    "\n",
    "            xv, yv = np.meshgrid(np.arange(0,x_axis_size), np.arange(0,y_axis_size))\n",
    "\n",
    "            dfg['FP_sample'] = xv.flatten() \n",
    "            dfg['FP_line'] = yv.flatten() \n",
    "\n",
    "            dfg['Cloud_Mask'] = data.ravel()\n",
    "            \n",
    "            dfg['Cloud_Mask_FileName'] = Cloud_Mask_File.split('/')[-1]\n",
    "            \n",
    "            f.close()\n",
    "            \n",
    "            f = netCDF4.Dataset(DCOMP_File)\n",
    "                        \n",
    "            data = f.variables['CloudMicroVisOD']\n",
    "\n",
    "            data = ma.getdata(data)\n",
    "            \n",
    "            data = np.kron(data, np.ones((2,2)))\n",
    "            \n",
    "            dfg['CloudMicroVisOD'] = data.ravel()\n",
    "            \n",
    "            dfg['CloudMicroVisOD_FileName'] = DCOMP_File.split('/')[-1]\n",
    "            \n",
    "            f.close()   \n",
    "            \n",
    "            df_new = pd.merge(df_new,dfg,on=['FP_sample','FP_line'],how='inner',indicator=False)\n",
    "            \n",
    "            df = pd.concat([df,df_new], axis=0)  "
   ]
  },
  {
   "cell_type": "code",
   "execution_count": 15,
   "id": "84aaae30",
   "metadata": {},
   "outputs": [
    {
     "data": {
      "text/html": [
       "<div>\n",
       "<style scoped>\n",
       "    .dataframe tbody tr th:only-of-type {\n",
       "        vertical-align: middle;\n",
       "    }\n",
       "\n",
       "    .dataframe tbody tr th {\n",
       "        vertical-align: top;\n",
       "    }\n",
       "\n",
       "    .dataframe thead th {\n",
       "        text-align: right;\n",
       "    }\n",
       "</style>\n",
       "<table border=\"1\" class=\"dataframe\">\n",
       "  <thead>\n",
       "    <tr style=\"text-align: right;\">\n",
       "      <th></th>\n",
       "      <th>FP_line</th>\n",
       "      <th>FP_sample</th>\n",
       "      <th>FP_latitude</th>\n",
       "      <th>FP_longitude</th>\n",
       "      <th>FP_T4</th>\n",
       "      <th>FP_T5</th>\n",
       "      <th>FP_MeanT4</th>\n",
       "      <th>FP_MeanT5</th>\n",
       "      <th>FP_MeanDT</th>\n",
       "      <th>FP_MAD_T4</th>\n",
       "      <th>...</th>\n",
       "      <th>FP_SolZenAng</th>\n",
       "      <th>FP_SolAzAng</th>\n",
       "      <th>FP_ViewZenAng</th>\n",
       "      <th>FP_ViewAzAng</th>\n",
       "      <th>FP_PersistentAnomalyCategory</th>\n",
       "      <th>Day_Night_Flag</th>\n",
       "      <th>Cloud_Mask</th>\n",
       "      <th>Cloud_Mask_FileName</th>\n",
       "      <th>CloudMicroVisOD</th>\n",
       "      <th>CloudMicroVisOD_FileName</th>\n",
       "    </tr>\n",
       "  </thead>\n",
       "  <tbody>\n",
       "    <tr>\n",
       "      <th>0</th>\n",
       "      <td>820</td>\n",
       "      <td>5363</td>\n",
       "      <td>-44.794647</td>\n",
       "      <td>170.922836</td>\n",
       "      <td>367.000000</td>\n",
       "      <td>300.589691</td>\n",
       "      <td>0.000000</td>\n",
       "      <td>0.000000</td>\n",
       "      <td>0.000000</td>\n",
       "      <td>0.000000</td>\n",
       "      <td>...</td>\n",
       "      <td>35.919895</td>\n",
       "      <td>-24.560261</td>\n",
       "      <td>55.907143</td>\n",
       "      <td>86.709770</td>\n",
       "      <td>0</td>\n",
       "      <td>Day</td>\n",
       "      <td>0.0</td>\n",
       "      <td>JRR-CloudMask_v2r3_npp_s202302200146508_e20230...</td>\n",
       "      <td>0.0</td>\n",
       "      <td>JRR-CloudDCOMP_v2r3_npp_s202302200146508_e2023...</td>\n",
       "    </tr>\n",
       "    <tr>\n",
       "      <th>1</th>\n",
       "      <td>820</td>\n",
       "      <td>5364</td>\n",
       "      <td>-44.794842</td>\n",
       "      <td>170.918182</td>\n",
       "      <td>345.076752</td>\n",
       "      <td>295.693237</td>\n",
       "      <td>301.032440</td>\n",
       "      <td>291.756104</td>\n",
       "      <td>9.276193</td>\n",
       "      <td>1.607823</td>\n",
       "      <td>...</td>\n",
       "      <td>35.918701</td>\n",
       "      <td>-24.552717</td>\n",
       "      <td>55.919388</td>\n",
       "      <td>86.713005</td>\n",
       "      <td>0</td>\n",
       "      <td>Day</td>\n",
       "      <td>0.0</td>\n",
       "      <td>JRR-CloudMask_v2r3_npp_s202302200146508_e20230...</td>\n",
       "      <td>0.0</td>\n",
       "      <td>JRR-CloudDCOMP_v2r3_npp_s202302200146508_e2023...</td>\n",
       "    </tr>\n",
       "    <tr>\n",
       "      <th>2</th>\n",
       "      <td>876</td>\n",
       "      <td>5307</td>\n",
       "      <td>-44.619152</td>\n",
       "      <td>171.154449</td>\n",
       "      <td>347.136841</td>\n",
       "      <td>293.604767</td>\n",
       "      <td>301.329163</td>\n",
       "      <td>292.416870</td>\n",
       "      <td>8.912321</td>\n",
       "      <td>2.659002</td>\n",
       "      <td>...</td>\n",
       "      <td>35.834091</td>\n",
       "      <td>-25.055243</td>\n",
       "      <td>55.219101</td>\n",
       "      <td>86.226547</td>\n",
       "      <td>0</td>\n",
       "      <td>Day</td>\n",
       "      <td>0.0</td>\n",
       "      <td>JRR-CloudMask_v2r3_npp_s202302200146508_e20230...</td>\n",
       "      <td>0.0</td>\n",
       "      <td>JRR-CloudDCOMP_v2r3_npp_s202302200146508_e2023...</td>\n",
       "    </tr>\n",
       "    <tr>\n",
       "      <th>3</th>\n",
       "      <td>904</td>\n",
       "      <td>5317</td>\n",
       "      <td>-44.539371</td>\n",
       "      <td>171.095093</td>\n",
       "      <td>367.000000</td>\n",
       "      <td>296.732178</td>\n",
       "      <td>0.000000</td>\n",
       "      <td>0.000000</td>\n",
       "      <td>0.000000</td>\n",
       "      <td>0.000000</td>\n",
       "      <td>...</td>\n",
       "      <td>35.746159</td>\n",
       "      <td>-25.019123</td>\n",
       "      <td>55.342567</td>\n",
       "      <td>86.105621</td>\n",
       "      <td>0</td>\n",
       "      <td>Day</td>\n",
       "      <td>0.0</td>\n",
       "      <td>JRR-CloudMask_v2r3_npp_s202302200146508_e20230...</td>\n",
       "      <td>0.0</td>\n",
       "      <td>JRR-CloudDCOMP_v2r3_npp_s202302200146508_e2023...</td>\n",
       "    </tr>\n",
       "    <tr>\n",
       "      <th>4</th>\n",
       "      <td>904</td>\n",
       "      <td>5318</td>\n",
       "      <td>-44.539585</td>\n",
       "      <td>171.090576</td>\n",
       "      <td>355.690186</td>\n",
       "      <td>295.798523</td>\n",
       "      <td>304.658051</td>\n",
       "      <td>294.196075</td>\n",
       "      <td>10.462007</td>\n",
       "      <td>2.810108</td>\n",
       "      <td>...</td>\n",
       "      <td>35.744987</td>\n",
       "      <td>-25.011770</td>\n",
       "      <td>55.354713</td>\n",
       "      <td>86.108833</td>\n",
       "      <td>0</td>\n",
       "      <td>Day</td>\n",
       "      <td>0.0</td>\n",
       "      <td>JRR-CloudMask_v2r3_npp_s202302200146508_e20230...</td>\n",
       "      <td>0.0</td>\n",
       "      <td>JRR-CloudDCOMP_v2r3_npp_s202302200146508_e2023...</td>\n",
       "    </tr>\n",
       "    <tr>\n",
       "      <th>...</th>\n",
       "      <td>...</td>\n",
       "      <td>...</td>\n",
       "      <td>...</td>\n",
       "      <td>...</td>\n",
       "      <td>...</td>\n",
       "      <td>...</td>\n",
       "      <td>...</td>\n",
       "      <td>...</td>\n",
       "      <td>...</td>\n",
       "      <td>...</td>\n",
       "      <td>...</td>\n",
       "      <td>...</td>\n",
       "      <td>...</td>\n",
       "      <td>...</td>\n",
       "      <td>...</td>\n",
       "      <td>...</td>\n",
       "      <td>...</td>\n",
       "      <td>...</td>\n",
       "      <td>...</td>\n",
       "      <td>...</td>\n",
       "      <td>...</td>\n",
       "    </tr>\n",
       "    <tr>\n",
       "      <th>14</th>\n",
       "      <td>1135</td>\n",
       "      <td>4977</td>\n",
       "      <td>15.580215</td>\n",
       "      <td>45.800556</td>\n",
       "      <td>300.033997</td>\n",
       "      <td>278.680237</td>\n",
       "      <td>275.431335</td>\n",
       "      <td>276.734863</td>\n",
       "      <td>-1.303563</td>\n",
       "      <td>0.876409</td>\n",
       "      <td>...</td>\n",
       "      <td>151.989548</td>\n",
       "      <td>83.576004</td>\n",
       "      <td>49.489223</td>\n",
       "      <td>-78.735611</td>\n",
       "      <td>1</td>\n",
       "      <td>Night</td>\n",
       "      <td>1.0</td>\n",
       "      <td>JRR-CloudMask_v2r3_npp_s202302202302510_e20230...</td>\n",
       "      <td>0.0</td>\n",
       "      <td>JRR-CloudDCOMP_v2r3_npp_s202302202224268_e2023...</td>\n",
       "    </tr>\n",
       "    <tr>\n",
       "      <th>15</th>\n",
       "      <td>1135</td>\n",
       "      <td>4978</td>\n",
       "      <td>15.579204</td>\n",
       "      <td>45.805779</td>\n",
       "      <td>298.422791</td>\n",
       "      <td>279.171631</td>\n",
       "      <td>275.368103</td>\n",
       "      <td>276.734650</td>\n",
       "      <td>-1.366538</td>\n",
       "      <td>0.807547</td>\n",
       "      <td>...</td>\n",
       "      <td>151.984665</td>\n",
       "      <td>83.580345</td>\n",
       "      <td>49.512192</td>\n",
       "      <td>-78.734222</td>\n",
       "      <td>1</td>\n",
       "      <td>Night</td>\n",
       "      <td>1.0</td>\n",
       "      <td>JRR-CloudMask_v2r3_npp_s202302202302510_e20230...</td>\n",
       "      <td>0.0</td>\n",
       "      <td>JRR-CloudDCOMP_v2r3_npp_s202302202224268_e2023...</td>\n",
       "    </tr>\n",
       "    <tr>\n",
       "      <th>16</th>\n",
       "      <td>1135</td>\n",
       "      <td>5201</td>\n",
       "      <td>15.376923</td>\n",
       "      <td>46.838009</td>\n",
       "      <td>314.054199</td>\n",
       "      <td>282.176208</td>\n",
       "      <td>277.740021</td>\n",
       "      <td>280.085541</td>\n",
       "      <td>-2.345379</td>\n",
       "      <td>1.674145</td>\n",
       "      <td>...</td>\n",
       "      <td>151.016418</td>\n",
       "      <td>84.417908</td>\n",
       "      <td>53.781536</td>\n",
       "      <td>-78.462082</td>\n",
       "      <td>1</td>\n",
       "      <td>Night</td>\n",
       "      <td>1.0</td>\n",
       "      <td>JRR-CloudMask_v2r3_npp_s202302202302510_e20230...</td>\n",
       "      <td>0.0</td>\n",
       "      <td>JRR-CloudDCOMP_v2r3_npp_s202302202224268_e2023...</td>\n",
       "    </tr>\n",
       "    <tr>\n",
       "      <th>17</th>\n",
       "      <td>1142</td>\n",
       "      <td>5199</td>\n",
       "      <td>15.342806</td>\n",
       "      <td>46.824272</td>\n",
       "      <td>329.307037</td>\n",
       "      <td>285.335205</td>\n",
       "      <td>0.000000</td>\n",
       "      <td>0.000000</td>\n",
       "      <td>0.000000</td>\n",
       "      <td>0.000000</td>\n",
       "      <td>...</td>\n",
       "      <td>151.032913</td>\n",
       "      <td>84.473274</td>\n",
       "      <td>53.757595</td>\n",
       "      <td>-78.216919</td>\n",
       "      <td>1</td>\n",
       "      <td>Night</td>\n",
       "      <td>1.0</td>\n",
       "      <td>JRR-CloudMask_v2r3_npp_s202302202302510_e20230...</td>\n",
       "      <td>0.0</td>\n",
       "      <td>JRR-CloudDCOMP_v2r3_npp_s202302202224268_e2023...</td>\n",
       "    </tr>\n",
       "    <tr>\n",
       "      <th>18</th>\n",
       "      <td>1143</td>\n",
       "      <td>5207</td>\n",
       "      <td>15.332805</td>\n",
       "      <td>46.847790</td>\n",
       "      <td>315.318390</td>\n",
       "      <td>283.169525</td>\n",
       "      <td>279.343750</td>\n",
       "      <td>281.216553</td>\n",
       "      <td>-1.872738</td>\n",
       "      <td>0.752762</td>\n",
       "      <td>...</td>\n",
       "      <td>151.011307</td>\n",
       "      <td>84.501396</td>\n",
       "      <td>53.853306</td>\n",
       "      <td>-78.175575</td>\n",
       "      <td>1</td>\n",
       "      <td>Night</td>\n",
       "      <td>1.0</td>\n",
       "      <td>JRR-CloudMask_v2r3_npp_s202302202302510_e20230...</td>\n",
       "      <td>0.0</td>\n",
       "      <td>JRR-CloudDCOMP_v2r3_npp_s202302202224268_e2023...</td>\n",
       "    </tr>\n",
       "  </tbody>\n",
       "</table>\n",
       "<p>47389 rows × 30 columns</p>\n",
       "</div>"
      ],
      "text/plain": [
       "    FP_line  FP_sample  FP_latitude  FP_longitude       FP_T4       FP_T5  \\\n",
       "0       820       5363   -44.794647    170.922836  367.000000  300.589691   \n",
       "1       820       5364   -44.794842    170.918182  345.076752  295.693237   \n",
       "2       876       5307   -44.619152    171.154449  347.136841  293.604767   \n",
       "3       904       5317   -44.539371    171.095093  367.000000  296.732178   \n",
       "4       904       5318   -44.539585    171.090576  355.690186  295.798523   \n",
       "..      ...        ...          ...           ...         ...         ...   \n",
       "14     1135       4977    15.580215     45.800556  300.033997  278.680237   \n",
       "15     1135       4978    15.579204     45.805779  298.422791  279.171631   \n",
       "16     1135       5201    15.376923     46.838009  314.054199  282.176208   \n",
       "17     1142       5199    15.342806     46.824272  329.307037  285.335205   \n",
       "18     1143       5207    15.332805     46.847790  315.318390  283.169525   \n",
       "\n",
       "     FP_MeanT4   FP_MeanT5  FP_MeanDT  FP_MAD_T4  ...  FP_SolZenAng  \\\n",
       "0     0.000000    0.000000   0.000000   0.000000  ...     35.919895   \n",
       "1   301.032440  291.756104   9.276193   1.607823  ...     35.918701   \n",
       "2   301.329163  292.416870   8.912321   2.659002  ...     35.834091   \n",
       "3     0.000000    0.000000   0.000000   0.000000  ...     35.746159   \n",
       "4   304.658051  294.196075  10.462007   2.810108  ...     35.744987   \n",
       "..         ...         ...        ...        ...  ...           ...   \n",
       "14  275.431335  276.734863  -1.303563   0.876409  ...    151.989548   \n",
       "15  275.368103  276.734650  -1.366538   0.807547  ...    151.984665   \n",
       "16  277.740021  280.085541  -2.345379   1.674145  ...    151.016418   \n",
       "17    0.000000    0.000000   0.000000   0.000000  ...    151.032913   \n",
       "18  279.343750  281.216553  -1.872738   0.752762  ...    151.011307   \n",
       "\n",
       "    FP_SolAzAng  FP_ViewZenAng  FP_ViewAzAng  FP_PersistentAnomalyCategory  \\\n",
       "0    -24.560261      55.907143     86.709770                             0   \n",
       "1    -24.552717      55.919388     86.713005                             0   \n",
       "2    -25.055243      55.219101     86.226547                             0   \n",
       "3    -25.019123      55.342567     86.105621                             0   \n",
       "4    -25.011770      55.354713     86.108833                             0   \n",
       "..          ...            ...           ...                           ...   \n",
       "14    83.576004      49.489223    -78.735611                             1   \n",
       "15    83.580345      49.512192    -78.734222                             1   \n",
       "16    84.417908      53.781536    -78.462082                             1   \n",
       "17    84.473274      53.757595    -78.216919                             1   \n",
       "18    84.501396      53.853306    -78.175575                             1   \n",
       "\n",
       "    Day_Night_Flag  Cloud_Mask  \\\n",
       "0              Day         0.0   \n",
       "1              Day         0.0   \n",
       "2              Day         0.0   \n",
       "3              Day         0.0   \n",
       "4              Day         0.0   \n",
       "..             ...         ...   \n",
       "14           Night         1.0   \n",
       "15           Night         1.0   \n",
       "16           Night         1.0   \n",
       "17           Night         1.0   \n",
       "18           Night         1.0   \n",
       "\n",
       "                                  Cloud_Mask_FileName  CloudMicroVisOD  \\\n",
       "0   JRR-CloudMask_v2r3_npp_s202302200146508_e20230...              0.0   \n",
       "1   JRR-CloudMask_v2r3_npp_s202302200146508_e20230...              0.0   \n",
       "2   JRR-CloudMask_v2r3_npp_s202302200146508_e20230...              0.0   \n",
       "3   JRR-CloudMask_v2r3_npp_s202302200146508_e20230...              0.0   \n",
       "4   JRR-CloudMask_v2r3_npp_s202302200146508_e20230...              0.0   \n",
       "..                                                ...              ...   \n",
       "14  JRR-CloudMask_v2r3_npp_s202302202302510_e20230...              0.0   \n",
       "15  JRR-CloudMask_v2r3_npp_s202302202302510_e20230...              0.0   \n",
       "16  JRR-CloudMask_v2r3_npp_s202302202302510_e20230...              0.0   \n",
       "17  JRR-CloudMask_v2r3_npp_s202302202302510_e20230...              0.0   \n",
       "18  JRR-CloudMask_v2r3_npp_s202302202302510_e20230...              0.0   \n",
       "\n",
       "                             CloudMicroVisOD_FileName  \n",
       "0   JRR-CloudDCOMP_v2r3_npp_s202302200146508_e2023...  \n",
       "1   JRR-CloudDCOMP_v2r3_npp_s202302200146508_e2023...  \n",
       "2   JRR-CloudDCOMP_v2r3_npp_s202302200146508_e2023...  \n",
       "3   JRR-CloudDCOMP_v2r3_npp_s202302200146508_e2023...  \n",
       "4   JRR-CloudDCOMP_v2r3_npp_s202302200146508_e2023...  \n",
       "..                                                ...  \n",
       "14  JRR-CloudDCOMP_v2r3_npp_s202302202224268_e2023...  \n",
       "15  JRR-CloudDCOMP_v2r3_npp_s202302202224268_e2023...  \n",
       "16  JRR-CloudDCOMP_v2r3_npp_s202302202224268_e2023...  \n",
       "17  JRR-CloudDCOMP_v2r3_npp_s202302202224268_e2023...  \n",
       "18  JRR-CloudDCOMP_v2r3_npp_s202302202224268_e2023...  \n",
       "\n",
       "[47389 rows x 30 columns]"
      ]
     },
     "execution_count": 15,
     "metadata": {},
     "output_type": "execute_result"
    }
   ],
   "source": [
    "df"
   ]
  },
  {
   "cell_type": "code",
   "execution_count": 16,
   "id": "ff845f6c",
   "metadata": {},
   "outputs": [
    {
     "data": {
      "text/plain": [
       "Index(['FP_line', 'FP_sample', 'FP_latitude', 'FP_longitude', 'FP_T4', 'FP_T5',\n",
       "       'FP_MeanT4', 'FP_MeanT5', 'FP_MeanDT', 'FP_MAD_T4', 'FP_MAD_T5',\n",
       "       'FP_MAD_DT', 'FP_power', 'FP_Rad13', 'FP_MeanRad13', 'FP_AdjCloud',\n",
       "       'FP_AdjWater', 'FP_WinSize', 'FP_confidence', 'FP_day', 'FP_SolZenAng',\n",
       "       'FP_SolAzAng', 'FP_ViewZenAng', 'FP_ViewAzAng',\n",
       "       'FP_PersistentAnomalyCategory', 'Day_Night_Flag', 'Cloud_Mask',\n",
       "       'Cloud_Mask_FileName', 'CloudMicroVisOD', 'CloudMicroVisOD_FileName'],\n",
       "      dtype='object')"
      ]
     },
     "execution_count": 16,
     "metadata": {},
     "output_type": "execute_result"
    }
   ],
   "source": [
    "df.columns"
   ]
  },
  {
   "cell_type": "code",
   "execution_count": 17,
   "id": "f8a9e8c9",
   "metadata": {},
   "outputs": [
    {
     "data": {
      "text/plain": [
       "0.0    30936\n",
       "3.0     7450\n",
       "1.0     4530\n",
       "2.0     4473\n",
       "Name: Cloud_Mask, dtype: int64"
      ]
     },
     "execution_count": 17,
     "metadata": {},
     "output_type": "execute_result"
    }
   ],
   "source": [
    "df['Cloud_Mask'].value_counts()"
   ]
  },
  {
   "cell_type": "code",
   "execution_count": 18,
   "id": "a55b2312",
   "metadata": {},
   "outputs": [
    {
     "data": {
      "text/plain": [
       "47366"
      ]
     },
     "execution_count": 18,
     "metadata": {},
     "output_type": "execute_result"
    }
   ],
   "source": [
    "df[ (df['Day_Night_Flag'] == 'Day') ]['Cloud_Mask'].count()"
   ]
  },
  {
   "cell_type": "code",
   "execution_count": 19,
   "id": "62d5d89b",
   "metadata": {},
   "outputs": [
    {
     "data": {
      "text/plain": [
       "11913"
      ]
     },
     "execution_count": 19,
     "metadata": {},
     "output_type": "execute_result"
    }
   ],
   "source": [
    "df[ (df['Day_Night_Flag'] == 'Day') & \n",
    "    (df['Cloud_Mask'] > 1) ]['Cloud_Mask'].count()"
   ]
  },
  {
   "cell_type": "code",
   "execution_count": 20,
   "id": "6c6983b8",
   "metadata": {},
   "outputs": [
    {
     "data": {
      "text/plain": [
       "35453"
      ]
     },
     "execution_count": 20,
     "metadata": {},
     "output_type": "execute_result"
    }
   ],
   "source": [
    "df[ (df['Day_Night_Flag'] == 'Day') & \n",
    "    (df['Cloud_Mask'] < 2 ) ]['Cloud_Mask'].count()"
   ]
  },
  {
   "cell_type": "code",
   "execution_count": 21,
   "id": "0f18b359",
   "metadata": {},
   "outputs": [
    {
     "data": {
      "text/plain": [
       "6"
      ]
     },
     "execution_count": 21,
     "metadata": {},
     "output_type": "execute_result"
    }
   ],
   "source": [
    "df[ (df['Day_Night_Flag'] == 'Night') & \n",
    "    (df['Cloud_Mask'] > 1) ]['Cloud_Mask'].count()"
   ]
  },
  {
   "cell_type": "code",
   "execution_count": 22,
   "id": "8b056b90",
   "metadata": {},
   "outputs": [
    {
     "data": {
      "text/plain": [
       "13"
      ]
     },
     "execution_count": 22,
     "metadata": {},
     "output_type": "execute_result"
    }
   ],
   "source": [
    "df[ (df['Day_Night_Flag'] == 'Night') & \n",
    "    (df['Cloud_Mask'] < 2 ) ]['Cloud_Mask'].count()"
   ]
  },
  {
   "cell_type": "code",
   "execution_count": null,
   "id": "edc07e09",
   "metadata": {},
   "outputs": [],
   "source": []
  },
  {
   "cell_type": "code",
   "execution_count": 23,
   "id": "bec13aa9",
   "metadata": {},
   "outputs": [
    {
     "data": {
      "text/plain": [
       "10.319049835205078"
      ]
     },
     "execution_count": 23,
     "metadata": {},
     "output_type": "execute_result"
    }
   ],
   "source": [
    "df[ df['Day_Night_Flag'] == 'Day' ]['FP_power'].mean()"
   ]
  },
  {
   "cell_type": "code",
   "execution_count": 24,
   "id": "5c3220ec",
   "metadata": {},
   "outputs": [
    {
     "data": {
      "text/plain": [
       "9.88177490234375"
      ]
     },
     "execution_count": 24,
     "metadata": {},
     "output_type": "execute_result"
    }
   ],
   "source": [
    "df[ (df['Day_Night_Flag'] == 'Day') & \n",
    "    (df['Cloud_Mask'] < 2) ]['FP_power'].mean()"
   ]
  },
  {
   "cell_type": "code",
   "execution_count": 25,
   "id": "4b8ecbe6",
   "metadata": {},
   "outputs": [
    {
     "data": {
      "text/plain": [
       "11.620408058166504"
      ]
     },
     "execution_count": 25,
     "metadata": {},
     "output_type": "execute_result"
    }
   ],
   "source": [
    "df[ (df['Day_Night_Flag'] == 'Day') & \n",
    "    (df['Cloud_Mask'] > 1) ]['FP_power'].mean()"
   ]
  },
  {
   "cell_type": "code",
   "execution_count": null,
   "id": "c7854c31",
   "metadata": {},
   "outputs": [],
   "source": []
  },
  {
   "cell_type": "code",
   "execution_count": 130,
   "id": "d625ddbc",
   "metadata": {},
   "outputs": [
    {
     "data": {
      "text/plain": [
       "2.1679838"
      ]
     },
     "execution_count": 130,
     "metadata": {},
     "output_type": "execute_result"
    }
   ],
   "source": [
    "df[ (df['Day_Night_Flag'] == 'Day') & \n",
    "    (df['Cloud_Mask'] < 2) ]['FP_power'].mode()[0]"
   ]
  },
  {
   "cell_type": "code",
   "execution_count": 131,
   "id": "72fbe02c",
   "metadata": {},
   "outputs": [
    {
     "data": {
      "text/plain": [
       "2.9360166"
      ]
     },
     "execution_count": 131,
     "metadata": {},
     "output_type": "execute_result"
    }
   ],
   "source": [
    "df[ (df['Day_Night_Flag'] == 'Day') & \n",
    "    (df['Cloud_Mask'] > 1) ]['FP_power'].mode()[0]"
   ]
  },
  {
   "cell_type": "code",
   "execution_count": null,
   "id": "61555b43",
   "metadata": {},
   "outputs": [],
   "source": []
  },
  {
   "cell_type": "code",
   "execution_count": 145,
   "id": "72b079a8",
   "metadata": {},
   "outputs": [
    {
     "name": "stdout",
     "output_type": "stream",
     "text": [
      "[  96 1618 4040 4839 4390 3651 2772 2234 1656 1321 1081  871  692  611\n",
      "  510  451  337  312  321  273  259  186  193  173  144  136  146  112\n",
      "  108   99   90   94   83   83   59   63   55   46   47   57   46   36\n",
      "   30   41   47   23   39   21   26   25   46   24   24   21   28   27\n",
      "   19   13   13   33   17   12   15   26   20   17    9   10    7    5\n",
      "   13    5   16    8    7   18   13   14   11   11    5    8   11   11\n",
      "    6    8    6   11   13    8    2   15    8    1    2    1    5    2\n",
      "    1    7    0    0    3    5    0    1    2    3   10    2    3    1\n",
      "    7    0    3    4    0    0    5    1    1    0    6    5    1    3\n",
      "    4    4    0    1    0    3   10    1    0    1    2    7    2    2\n",
      "    2    0    4    4    1    0    0    0    0]\n",
      "[  0   1   2   3   4   5   6   7   8   9  10  11  12  13  14  15  16  17\n",
      "  18  19  20  21  22  23  24  25  26  27  28  29  30  31  32  33  34  35\n",
      "  36  37  38  39  40  41  42  43  44  45  46  47  48  49  50  51  52  53\n",
      "  54  55  56  57  58  59  60  61  62  63  64  65  66  67  68  69  70  71\n",
      "  72  73  74  75  76  77  78  79  80  81  82  83  84  85  86  87  88  89\n",
      "  90  91  92  93  94  95  96  97  98  99 100 101 102 103 104 105 106 107\n",
      " 108 109 110 111 112 113 114 115 116 117 118 119 120 121 122 123 124 125\n",
      " 126 127 128 129 130 131 132 133 134 135 136 137 138 139 140 141 142 143\n",
      " 144 145 146 147 148 149]\n",
      "[3]\n",
      "[4839]\n",
      "[3.5]\n"
     ]
    }
   ],
   "source": [
    "data_tmp = df[ (df['Day_Night_Flag'] == 'Day') & \n",
    "    (df['Cloud_Mask'] < 2) ]['FP_power'].to_numpy()\n",
    "\n",
    "bins = [i for i in range(150)]\n",
    "\n",
    "hx, hy =  np.histogram(data_tmp, bins=bins )\n",
    "\n",
    "print(hx)\n",
    "print(hy)\n",
    "\n",
    "bin_max = np.where(hx == hx.max())[0]\n",
    "\n",
    "print(bin_max)\n",
    "\n",
    "print( hx[bin_max] )\n",
    "print( ( hy[bin_max] + hy[bin_max+1] ) / 2.0 )"
   ]
  },
  {
   "cell_type": "code",
   "execution_count": 134,
   "id": "f0ba0fdd",
   "metadata": {},
   "outputs": [
    {
     "name": "stdout",
     "output_type": "stream",
     "text": [
      "[  26  462 1214 1450 1330 1153  849  765  592  461  346  363  290  238\n",
      "  227  162  154  137  113   85  107  100   73   76   66   64   55   45\n",
      "   48   47   38   43   33   31   43   33   36   44   31   23   26   19\n",
      "   17   31    8   11   13   21    9    7   16   13    3    2    2    6\n",
      "    1    8    7    2    4    4    5    2    3    9    7    5    8    1\n",
      "   10    5    6    2    4    1    2    2    3    0    0    0    7    0\n",
      "    2    4    0    1    1    0    4    4   13    3    3    0    7    4\n",
      "    0    0    2    1    1    1    4    2    0    4    1    7    1    1\n",
      "    0    0    2    2    4    1    1    1    0    1    0    0    0    3\n",
      "    3    2    3    4    3    0    0    0    0    1    1    0    0    0\n",
      "    2    0    0    1    2    0    4    0    3]\n",
      "[  0   1   2   3   4   5   6   7   8   9  10  11  12  13  14  15  16  17\n",
      "  18  19  20  21  22  23  24  25  26  27  28  29  30  31  32  33  34  35\n",
      "  36  37  38  39  40  41  42  43  44  45  46  47  48  49  50  51  52  53\n",
      "  54  55  56  57  58  59  60  61  62  63  64  65  66  67  68  69  70  71\n",
      "  72  73  74  75  76  77  78  79  80  81  82  83  84  85  86  87  88  89\n",
      "  90  91  92  93  94  95  96  97  98  99 100 101 102 103 104 105 106 107\n",
      " 108 109 110 111 112 113 114 115 116 117 118 119 120 121 122 123 124 125\n",
      " 126 127 128 129 130 131 132 133 134 135 136 137 138 139 140 141 142 143\n",
      " 144 145 146 147 148 149]\n",
      "[3]\n",
      "[1450]\n",
      "[3.5]\n"
     ]
    }
   ],
   "source": [
    "\n",
    "\n",
    "data_tmp = df[ (df['Day_Night_Flag'] == 'Day') & \n",
    "    (df['Cloud_Mask'] > 1) ]['FP_power'].to_numpy()\n",
    "\n",
    "bins = [i for i in range(150)]\n",
    "\n",
    "hx, hy =  np.histogram(data_tmp, bins=bins )\n",
    "\n",
    "print(hx)\n",
    "print(hy)\n",
    "\n",
    "bin_max = np.where(hx == hx.max())[0]\n",
    "\n",
    "print(bin_max)\n",
    "\n",
    "print( hx[bin_max] )\n",
    "print( ( hy[bin_max] + hy[bin_max+1] ) / 2.0 )"
   ]
  },
  {
   "cell_type": "code",
   "execution_count": null,
   "id": "b95e99bb",
   "metadata": {},
   "outputs": [],
   "source": []
  },
  {
   "cell_type": "code",
   "execution_count": null,
   "id": "9111069c",
   "metadata": {},
   "outputs": [],
   "source": []
  },
  {
   "cell_type": "code",
   "execution_count": null,
   "id": "7db29584",
   "metadata": {},
   "outputs": [],
   "source": []
  },
  {
   "cell_type": "code",
   "execution_count": 26,
   "id": "78539b7b",
   "metadata": {},
   "outputs": [
    {
     "data": {
      "text/plain": [
       "6.360832691192627"
      ]
     },
     "execution_count": 26,
     "metadata": {},
     "output_type": "execute_result"
    }
   ],
   "source": [
    "df[ (df['Day_Night_Flag'] == 'Day') & \n",
    "    (df['Cloud_Mask'] > 1) ]['FP_power'].median()"
   ]
  },
  {
   "cell_type": "code",
   "execution_count": 27,
   "id": "d6330e91",
   "metadata": {},
   "outputs": [
    {
     "data": {
      "text/plain": [
       "<AxesSubplot:>"
      ]
     },
     "execution_count": 27,
     "metadata": {},
     "output_type": "execute_result"
    },
    {
     "data": {
      "image/png": "[encoded data removed]",
      "text/plain": [
       "<Figure size 432x288 with 1 Axes>"
      ]
     },
     "metadata": {
      "needs_background": "light"
     },
     "output_type": "display_data"
    }
   ],
   "source": [
    "df[ (df['Day_Night_Flag'] == 'Day') & \n",
    "    (df['Cloud_Mask'] < 2) ]['CloudMicroVisOD'].hist()"
   ]
  },
  {
   "cell_type": "code",
   "execution_count": 28,
   "id": "19d5d765",
   "metadata": {},
   "outputs": [
    {
     "data": {
      "text/plain": [
       "3.0    6733\n",
       "2.0    3664\n",
       "1.0       5\n",
       "Name: Cloud_Mask, dtype: int64"
      ]
     },
     "execution_count": 28,
     "metadata": {},
     "output_type": "execute_result"
    }
   ],
   "source": [
    "df[ df['CloudMicroVisOD'] > 0.0  ]['Cloud_Mask'].value_counts()"
   ]
  },
  {
   "cell_type": "code",
   "execution_count": null,
   "id": "59ce634d",
   "metadata": {},
   "outputs": [],
   "source": []
  },
  {
   "cell_type": "code",
   "execution_count": null,
   "id": "c5fe9331",
   "metadata": {},
   "outputs": [],
   "source": []
  },
  {
   "cell_type": "code",
   "execution_count": 29,
   "id": "a9e766cc",
   "metadata": {},
   "outputs": [
    {
     "data": {
      "text/plain": [
       "<AxesSubplot:>"
      ]
     },
     "execution_count": 29,
     "metadata": {},
     "output_type": "execute_result"
    },
    {
     "data": {
      "image/png": "[encoded data removed]",
      "text/plain": [
       "<Figure size 432x288 with 1 Axes>"
      ]
     },
     "metadata": {
      "needs_background": "light"
     },
     "output_type": "display_data"
    }
   ],
   "source": [
    "df[ (df['Day_Night_Flag'] == 'Day') & \n",
    "    (df['Cloud_Mask'] > 1) ]['FP_power'].hist()"
   ]
  },
  {
   "cell_type": "code",
   "execution_count": 30,
   "id": "c3ef5d3d",
   "metadata": {},
   "outputs": [
    {
     "data": {
      "text/plain": [
       "9.88177490234375"
      ]
     },
     "execution_count": 30,
     "metadata": {},
     "output_type": "execute_result"
    }
   ],
   "source": [
    "df[ (df['Day_Night_Flag'] == 'Day') & \n",
    "    (df['Cloud_Mask'] < 2) ]['FP_power'].mean()"
   ]
  },
  {
   "cell_type": "code",
   "execution_count": 56,
   "id": "95be706e",
   "metadata": {},
   "outputs": [
    {
     "data": {
      "text/plain": [
       "<AxesSubplot:>"
      ]
     },
     "execution_count": 56,
     "metadata": {},
     "output_type": "execute_result"
    },
    {
     "data": {
      "image/png": "[encoded data removed]",
      "text/plain": [
       "<Figure size 432x288 with 1 Axes>"
      ]
     },
     "metadata": {
      "needs_background": "light"
     },
     "output_type": "display_data"
    }
   ],
   "source": [
    "df[ (df['Day_Night_Flag'] == 'Day') & \n",
    "    (df['Cloud_Mask'] < 2) ]['FP_power'].hist()"
   ]
  },
  {
   "cell_type": "code",
   "execution_count": 171,
   "id": "45ac3099",
   "metadata": {},
   "outputs": [
    {
     "data": {
      "text/plain": [
       "<matplotlib.legend.Legend at 0x7fe38b50abb0>"
      ]
     },
     "execution_count": 171,
     "metadata": {},
     "output_type": "execute_result"
    },
    {
     "data": {
      "image/png": "[encoded data removed]",
      "text/plain": [
       "<Figure size 1920x1440 with 1 Axes>"
      ]
     },
     "metadata": {},
     "output_type": "display_data"
    }
   ],
   "source": [
    "fig = plt.figure(num=None, figsize=(16, 12), dpi=120, facecolor='w', edgecolor='k')\n",
    "\n",
    "bins = [i for i in range(200)]\n",
    "\n",
    "df[ (df['Day_Night_Flag'] == 'Day') & \n",
    "    (df['Cloud_Mask'] < 2) ]['FP_power'].hist(bins=bins,density=True,alpha=0.5,label='CLEAR')\n",
    "\n",
    "df[ (df['Day_Night_Flag'] == 'Day') & \n",
    "    (df['Cloud_Mask'] > 1) ]['FP_power'].hist(bins=bins,density=True,alpha=0.5,label='CLOUDY')\n",
    "\n",
    "plt.ylabel(\"Probability Density Function\",fontsize=14)\n",
    "plt.xlabel(\"Fire Radiative Power (MW)\",fontsize=14)\n",
    "\n",
    "plt.legend(loc='upper right',fontsize=14)"
   ]
  },
  {
   "cell_type": "code",
   "execution_count": 155,
   "id": "0730f124",
   "metadata": {},
   "outputs": [
    {
     "data": {
      "text/plain": [
       "<matplotlib.legend.Legend at 0x7fe0e81cc4f0>"
      ]
     },
     "execution_count": 155,
     "metadata": {},
     "output_type": "execute_result"
    },
    {
     "data": {
      "image/png": "[encoded data removed]",
      "text/plain": [
       "<Figure size 1920x1440 with 1 Axes>"
      ]
     },
     "metadata": {},
     "output_type": "display_data"
    }
   ],
   "source": [
    "fig = plt.figure(num=None, figsize=(16, 12), dpi=120, facecolor='w', edgecolor='k')\n",
    "\n",
    "bins = [i for i in range(200)]\n",
    "\n",
    "df[ (df['Day_Night_Flag'] == 'Day') & \n",
    "    (df['Cloud_Mask'] < 2) ]['FP_power'].hist(bins=bins,density=False,alpha=0.5,label='CLEAR')\n",
    "\n",
    "df[ (df['Day_Night_Flag'] == 'Day') & \n",
    "    (df['Cloud_Mask'] > 1) ]['FP_power'].hist(bins=bins,density=False,alpha=0.5,label='CLOUDY')\n",
    "\n",
    "plt.ylabel(\"Pixel Counts\",fontsize=14)\n",
    "plt.xlabel(\"Fire Radiative Power (MW)\",fontsize=14)\n",
    "\n",
    "plt.legend(loc='upper right',fontsize=14)"
   ]
  },
  {
   "cell_type": "code",
   "execution_count": null,
   "id": "8b4c98dd",
   "metadata": {},
   "outputs": [],
   "source": []
  },
  {
   "cell_type": "code",
   "execution_count": 33,
   "id": "adbb6f8e",
   "metadata": {},
   "outputs": [
    {
     "data": {
      "text/plain": [
       "<Figure size 1920x1440 with 0 Axes>"
      ]
     },
     "metadata": {},
     "output_type": "display_data"
    },
    {
     "data": {
      "image/png": "[encoded data removed]",
      "text/plain": [
       "<Figure size 432x288 with 1 Axes>"
      ]
     },
     "metadata": {
      "needs_background": "light"
     },
     "output_type": "display_data"
    }
   ],
   "source": [
    "fig = plt.figure(num=None, figsize=(16, 12), dpi=120, facecolor='w', edgecolor='k')\n",
    "\n",
    "ax = df.plot(x='CloudMicroVisOD', y='FP_power', style='o', legend=False)\n",
    "\n",
    "ax.set_xlabel(\"Cloud Optical Depth\")\n",
    "ax.set_ylabel(\"Fire Radiative Power\")\n",
    "\n",
    "ax.set_title(\"\")\n",
    "\n",
    "#ax.set_xlim(0,10)\n",
    "#ax.set_ylim(0,20)\n",
    "\n",
    "ax.grid()\n",
    "\n",
    "plt.show()"
   ]
  },
  {
   "cell_type": "code",
   "execution_count": 59,
   "id": "122d65f9",
   "metadata": {},
   "outputs": [
    {
     "data": {
      "text/plain": [
       "<Figure size 1920x1440 with 0 Axes>"
      ]
     },
     "metadata": {},
     "output_type": "display_data"
    },
    {
     "data": {
      "image/png": "[encoded data removed]",
      "text/plain": [
       "<Figure size 432x288 with 1 Axes>"
      ]
     },
     "metadata": {
      "needs_background": "light"
     },
     "output_type": "display_data"
    }
   ],
   "source": [
    "df_sub = df[  (df['CloudMicroVisOD'] >= 0.0) & (df['FP_power'] >= 0.0)      ]\n",
    "\n",
    "fig = plt.figure(num=None, figsize=(16, 12), dpi=120, facecolor='w', edgecolor='k')\n",
    "\n",
    "ax = df_sub.plot(x='CloudMicroVisOD', y='FP_power', style='o', legend=False)\n",
    "\n",
    "ax.set_xlabel(\"Cloud Optical Depth\")\n",
    "ax.set_ylabel(\"Fire Radiative Power\")\n",
    "\n",
    "ax.set_title(\"\")\n",
    "\n",
    "ax.set_xlim(0,10)\n",
    "#ax.set_ylim(0,20)\n",
    "\n",
    "ax.grid()\n",
    "\n",
    "plt.show()"
   ]
  },
  {
   "cell_type": "code",
   "execution_count": 87,
   "id": "e060c682",
   "metadata": {
    "scrolled": false
   },
   "outputs": [
    {
     "data": {
      "image/png": "[encoded data removed]",
      "text/plain": [
       "<Figure size 1920x1440 with 1 Axes>"
      ]
     },
     "metadata": {},
     "output_type": "display_data"
    }
   ],
   "source": [
    "df_cloudy = df[  (df['Day_Night_Flag'] == 'Day') & \n",
    "                 (df['CloudMicroVisOD'] > 0.0) & \n",
    "                 (df['FP_power'] >= 0.0)      ]\n",
    "\n",
    "df_clear = df[ (df['Day_Night_Flag'] == 'Day') & \n",
    "               (df['Cloud_Mask'] < 2) ]\n",
    "\n",
    "fig = plt.figure(num=None, figsize=(16, 12), dpi=120, facecolor='w', edgecolor='k')\n",
    "\n",
    "\n",
    "plt.scatter(df_clear['CloudMicroVisOD'].to_numpy(), df_clear['FP_power'].to_numpy(),label='Clear')\n",
    "plt.scatter(df_cloudy['CloudMicroVisOD'].to_numpy(), df_cloudy['FP_power'].to_numpy(),label='Cloudy')\n",
    "\n",
    "\n",
    "plt.xlabel(\"DCOMP Cloud Optical Depth\",fontsize=14)\n",
    "plt.ylabel(\"Fire Radiative Power (MW)\",fontsize=14)\n",
    "\n",
    "plt.xlim(0,10)\n",
    "plt.ylim(0,250)\n",
    "\n",
    "plt.legend(fontsize=14)\n",
    "\n",
    "plt.grid()\n",
    "\n",
    "plt.show()"
   ]
  },
  {
   "cell_type": "code",
   "execution_count": null,
   "id": "8af59958",
   "metadata": {},
   "outputs": [],
   "source": []
  },
  {
   "cell_type": "code",
   "execution_count": null,
   "id": "e6ee6604",
   "metadata": {},
   "outputs": [],
   "source": []
  },
  {
   "cell_type": "code",
   "execution_count": 35,
   "id": "fef82f26",
   "metadata": {},
   "outputs": [
    {
     "data": {
      "text/plain": [
       "array([[ 0.        , 21.34487724],\n",
       "       [ 0.        , 10.36973858],\n",
       "       [ 0.        ,  4.81528044],\n",
       "       ...,\n",
       "       [ 0.        ,  1.35622621],\n",
       "       [ 0.        ,  1.63487446],\n",
       "       [ 0.        ,  0.91362089]])"
      ]
     },
     "execution_count": 35,
     "metadata": {},
     "output_type": "execute_result"
    }
   ],
   "source": [
    "from scipy import stats\n",
    "\n",
    "import matplotlib.cm as cm\n",
    "\n",
    "values = df[ ['CloudMicroVisOD','FP_power'] ][  (df['CloudMicroVisOD'] >= 0.0) & (df['FP_power'] >= 0.0)      ].to_numpy()\n",
    "\n",
    "values"
   ]
  },
  {
   "cell_type": "code",
   "execution_count": 36,
   "id": "cdf12a17",
   "metadata": {},
   "outputs": [
    {
     "data": {
      "text/plain": [
       "270.5248107910156"
      ]
     },
     "execution_count": 36,
     "metadata": {},
     "output_type": "execute_result"
    }
   ],
   "source": [
    "values.max()"
   ]
  },
  {
   "cell_type": "code",
   "execution_count": 37,
   "id": "98f9025e",
   "metadata": {},
   "outputs": [],
   "source": [
    "xmin = 0#values.min()\n",
    "xmax = 5#values.max()\n",
    "ymin = 0#values.min()\n",
    "ymax = 20#values.max()\n",
    "\n",
    "kernel = stats.kde.gaussian_kde(values.T)"
   ]
  },
  {
   "cell_type": "code",
   "execution_count": 38,
   "id": "52ec3634",
   "metadata": {},
   "outputs": [
    {
     "name": "stdout",
     "output_type": "stream",
     "text": [
      "0 5\n",
      "0 20\n"
     ]
    }
   ],
   "source": [
    "print(xmin,xmax)\n",
    "print(ymin,ymax)"
   ]
  },
  {
   "cell_type": "code",
   "execution_count": 39,
   "id": "1de63e35",
   "metadata": {},
   "outputs": [
    {
     "data": {
      "image/png": "[encoded data removed]",
      "text/plain": [
       "<Figure size 720x288 with 2 Axes>"
      ]
     },
     "metadata": {
      "needs_background": "light"
     },
     "output_type": "display_data"
    }
   ],
   "source": [
    "\n",
    "fig = plt.figure(figsize=(10,4))\n",
    "\n",
    "ax = fig.add_subplot(111)\n",
    "\n",
    "X, Y = np.mgrid[xmin:xmax:100j, ymin:ymax:100j]\n",
    "\n",
    "positions = np.c_[X.ravel(), Y.ravel()]\n",
    "\n",
    "Z = np.reshape(kernel(positions.T).T, X.T.shape)\n",
    "\n",
    "cax = ax.imshow(Z.T, interpolation='nearest',\n",
    "            cmap=cm.gist_earth_r, origin='lower', extent=[xmin, xmax, ymin, ymax], aspect='auto')\n",
    "\n",
    "#ax.plot([xmin,xmax], [ymin,ymax], 'b--',c='black')\n",
    "\n",
    "plt.xlabel('x',fontsize=14)\n",
    "plt.ylabel('y',fontsize=14)\n",
    "\n",
    "#plt.xlim(xmin,xmax)\n",
    "#plt.ylim(ymin,ymax)\n",
    "\n",
    "plt.xlabel(\"Cloud Optical Depth\")\n",
    "plt.ylabel(\"Fire Radiative Power\")\n",
    "\n",
    "plt.grid()\n",
    "\n",
    "ticks_at = [0, Z.max()/6.0, 2.0*Z.max()/6.0, 3.0*Z.max()/6.0, 4.0*Z.max()/6.0, 5.0*Z.max()/6.0, Z.max()]\n",
    "cbar = fig.colorbar(cax,ticks=ticks_at,format='%1.2g')\n",
    "cbar.set_label('Kernel density function')\n",
    "\n",
    "plt.savefig(\"FRP_vs_COD.png\", bbox_inches='tight',dpi=200, facecolor='white')\n",
    "\n",
    "plt.show()"
   ]
  },
  {
   "cell_type": "code",
   "execution_count": 40,
   "id": "b99abb2c",
   "metadata": {},
   "outputs": [
    {
     "name": "stdout",
     "output_type": "stream",
     "text": [
      "98.88869633031497\n",
      "1.1113036696850223\n"
     ]
    }
   ],
   "source": [
    "tot = df[ ['CloudMicroVisOD','FP_power'] ][  (df['CloudMicroVisOD'] >= 0.0) & (df['FP_power'] >= 0.0) ].shape[0]\n",
    "\n",
    "c1 = df[ ['CloudMicroVisOD','FP_power'] ][ (df['CloudMicroVisOD'] >= 0.0) & (df['CloudMicroVisOD'] < 5.0) & (df['FP_power'] >= 0.0) ].shape[0]\n",
    "c2 = df[ ['CloudMicroVisOD','FP_power'] ][ (df['CloudMicroVisOD'] >= 0.0) & (df['CloudMicroVisOD'] >= 5.0) & (df['FP_power'] >= 0.0) ].shape[0]\n",
    "\n",
    "print( c1 * 100 / tot )\n",
    "print( c2 * 100 / tot )"
   ]
  },
  {
   "cell_type": "code",
   "execution_count": 41,
   "id": "6149b1e2",
   "metadata": {},
   "outputs": [
    {
     "data": {
      "text/plain": [
       "513"
      ]
     },
     "execution_count": 41,
     "metadata": {},
     "output_type": "execute_result"
    }
   ],
   "source": [
    "c2"
   ]
  },
  {
   "cell_type": "code",
   "execution_count": 42,
   "id": "87503537",
   "metadata": {},
   "outputs": [
    {
     "data": {
      "text/plain": [
       "46162"
      ]
     },
     "execution_count": 42,
     "metadata": {},
     "output_type": "execute_result"
    }
   ],
   "source": [
    "tot"
   ]
  },
  {
   "cell_type": "code",
   "execution_count": 170,
   "id": "fcc87e59",
   "metadata": {},
   "outputs": [
    {
     "data": {
      "text/plain": [
       "<Figure size 720x720 with 0 Axes>"
      ]
     },
     "metadata": {},
     "output_type": "display_data"
    },
    {
     "data": {
      "image/png": "[encoded data removed]",
      "text/plain": [
       "<Figure size 600x400 with 2 Axes>"
      ]
     },
     "metadata": {
      "needs_background": "light"
     },
     "output_type": "display_data"
    }
   ],
   "source": [
    "values = df[ ['CloudMicroVisOD','FP_power'] ][  (df['CloudMicroVisOD'] > 0.0) & (df['FP_power'] >= 0.0)      ].to_numpy()\n",
    "\n",
    "xmin = 0#values.min()\n",
    "xmax = 4#values.max()\n",
    "ymin = 0#values.min()\n",
    "ymax = 25#values.max()\n",
    "\n",
    "kernel = stats.kde.gaussian_kde(values.T)\n",
    "\n",
    "fig = plt.figure(figsize=(10,10))\n",
    "\n",
    "fig = plt.figure(dpi=100)\n",
    "\n",
    "ax = fig.add_subplot(111)\n",
    "\n",
    "X, Y = np.mgrid[xmin:xmax:100j, ymin:ymax:100j]\n",
    "\n",
    "positions = np.c_[X.ravel(), Y.ravel()]\n",
    "\n",
    "Z = np.reshape(kernel(positions.T).T, X.T.shape)\n",
    "\n",
    "cax = ax.imshow(Z.T, interpolation='nearest',\n",
    "            cmap=cm.gist_earth_r, origin='lower', extent=[xmin, xmax, ymin, ymax], aspect='auto')\n",
    "\n",
    "#ax.plot([xmin,xmax], [ymin,ymax], 'b--',c='black')\n",
    "\n",
    "plt.xlabel('x',fontsize=8)\n",
    "plt.ylabel('y',fontsize=8)\n",
    "\n",
    "#plt.xlim(xmin,xmax)\n",
    "#plt.ylim(ymin,ymax)\n",
    "\n",
    "plt.xlabel(\"DCOMP Cloud Optical Depth\",fontsize=8)\n",
    "plt.ylabel(\"Fire Radiative Power (MW)\",fontsize=8)\n",
    "\n",
    "plt.grid()\n",
    "\n",
    "ticks_at = [0, Z.max()/6.0, 2.0*Z.max()/6.0, 3.0*Z.max()/6.0, 4.0*Z.max()/6.0, 5.0*Z.max()/6.0, Z.max()]\n",
    "cbar = fig.colorbar(cax,ticks=ticks_at,format='%1.2g')\n",
    "cbar.set_label('Kernel density function',fontsize=8)\n",
    "\n",
    "#plt.savefig(\"FRP_vs_COD_02.png\", bbox_inches='tight',dpi=100, facecolor='white')\n",
    "\n",
    "plt.show()"
   ]
  },
  {
   "cell_type": "code",
   "execution_count": 44,
   "id": "5baec23c",
   "metadata": {},
   "outputs": [
    {
     "data": {
      "text/plain": [
       "<AxesSubplot:>"
      ]
     },
     "execution_count": 44,
     "metadata": {},
     "output_type": "execute_result"
    },
    {
     "data": {
      "image/png": "[encoded data removed]",
      "text/plain": [
       "<Figure size 432x288 with 1 Axes>"
      ]
     },
     "metadata": {
      "needs_background": "light"
     },
     "output_type": "display_data"
    }
   ],
   "source": [
    "df[ (df['Day_Night_Flag'] == 'Day') & \n",
    "    (df['Cloud_Mask'] > 1) ]['FP_power'].hist()"
   ]
  },
  {
   "cell_type": "code",
   "execution_count": 45,
   "id": "06e3db71",
   "metadata": {},
   "outputs": [
    {
     "data": {
      "text/plain": [
       "<AxesSubplot:>"
      ]
     },
     "execution_count": 45,
     "metadata": {},
     "output_type": "execute_result"
    },
    {
     "data": {
      "image/png": "[encoded data removed]",
      "text/plain": [
       "<Figure size 432x288 with 1 Axes>"
      ]
     },
     "metadata": {
      "needs_background": "light"
     },
     "output_type": "display_data"
    }
   ],
   "source": [
    "df[ (df['Day_Night_Flag'] == 'Day') & \n",
    "    (df['Cloud_Mask'] == 3) ]['FP_power'].plot()"
   ]
  },
  {
   "cell_type": "code",
   "execution_count": 46,
   "id": "32cbaca1",
   "metadata": {},
   "outputs": [
    {
     "data": {
      "text/plain": [
       "8       659.042969\n",
       "12      659.042969\n",
       "13      659.042969\n",
       "30      485.331757\n",
       "31      485.331757\n",
       "36      405.029602\n",
       "42      485.331757\n",
       "45      485.331757\n",
       "46      405.029602\n",
       "8971    316.943939\n",
       "Name: FP_power, dtype: float32"
      ]
     },
     "execution_count": 46,
     "metadata": {},
     "output_type": "execute_result"
    }
   ],
   "source": [
    "df[ (df['Day_Night_Flag'] == 'Day') & \n",
    "    (df['Cloud_Mask'] > 1) &\n",
    "  (df['FP_power'] > 300)     ]['FP_power']"
   ]
  },
  {
   "cell_type": "code",
   "execution_count": 47,
   "id": "284a0e1d",
   "metadata": {},
   "outputs": [
    {
     "data": {
      "text/plain": [
       "659.04296875"
      ]
     },
     "execution_count": 47,
     "metadata": {},
     "output_type": "execute_result"
    }
   ],
   "source": [
    "df[ (df['Day_Night_Flag'] == 'Day') & \n",
    "    (df['Cloud_Mask'] > 1) ]['FP_power'].max()"
   ]
  },
  {
   "cell_type": "code",
   "execution_count": 48,
   "id": "4f3d9246",
   "metadata": {},
   "outputs": [
    {
     "data": {
      "text/plain": [
       "11.620408058166504"
      ]
     },
     "execution_count": 48,
     "metadata": {},
     "output_type": "execute_result"
    }
   ],
   "source": [
    "df[ (df['Day_Night_Flag'] == 'Day') & \n",
    "    (df['Cloud_Mask'] > 1) ]['FP_power'].mean()"
   ]
  },
  {
   "cell_type": "code",
   "execution_count": 49,
   "id": "5bb5ea13",
   "metadata": {},
   "outputs": [
    {
     "data": {
      "text/plain": [
       "11.020554542541504"
      ]
     },
     "execution_count": 49,
     "metadata": {},
     "output_type": "execute_result"
    }
   ],
   "source": [
    "df[ (df['Day_Night_Flag'] == 'Day') & \n",
    "    (df['Cloud_Mask'] == 3) ]['FP_power'].mean()"
   ]
  },
  {
   "cell_type": "code",
   "execution_count": 50,
   "id": "b3813f64",
   "metadata": {},
   "outputs": [
    {
     "data": {
      "text/plain": [
       "9.678166389465332"
      ]
     },
     "execution_count": 50,
     "metadata": {},
     "output_type": "execute_result"
    }
   ],
   "source": [
    "df[ (df['Day_Night_Flag'] == 'Day') & \n",
    "    (df['Cloud_Mask'] == 0) ]['FP_power'].mean()"
   ]
  },
  {
   "cell_type": "code",
   "execution_count": 51,
   "id": "3ea16e2b",
   "metadata": {},
   "outputs": [
    {
     "data": {
      "text/plain": [
       "<AxesSubplot:>"
      ]
     },
     "execution_count": 51,
     "metadata": {},
     "output_type": "execute_result"
    },
    {
     "data": {
      "image/png": "[encoded data removed]",
      "text/plain": [
       "<Figure size 432x288 with 1 Axes>"
      ]
     },
     "metadata": {
      "needs_background": "light"
     },
     "output_type": "display_data"
    }
   ],
   "source": [
    "df[ (df['Day_Night_Flag'] == 'Day') & \n",
    "    (df['CloudMicroVisOD'] > 0) ]['FP_power'].hist()"
   ]
  },
  {
   "cell_type": "code",
   "execution_count": 52,
   "id": "c390971d",
   "metadata": {},
   "outputs": [
    {
     "data": {
      "text/plain": [
       "8.139678001403809"
      ]
     },
     "execution_count": 52,
     "metadata": {},
     "output_type": "execute_result"
    }
   ],
   "source": [
    "df[ (df['Day_Night_Flag'] == 'Day') & \n",
    "    (df['CloudMicroVisOD'] > 0) ]['FP_power'].mean()"
   ]
  },
  {
   "cell_type": "code",
   "execution_count": 53,
   "id": "1bdf1efe",
   "metadata": {},
   "outputs": [
    {
     "data": {
      "text/plain": [
       "CloudMicroVisOD    2.44479\n",
       "FP_power           8.13415\n",
       "dtype: float64"
      ]
     },
     "execution_count": 53,
     "metadata": {},
     "output_type": "execute_result"
    }
   ],
   "source": [
    "df[ ['CloudMicroVisOD','FP_power'] ][  (df['CloudMicroVisOD'] > 0.0) & (df['FP_power'] >= 0.0)      ].mean()"
   ]
  },
  {
   "cell_type": "code",
   "execution_count": 54,
   "id": "ed0065d3",
   "metadata": {},
   "outputs": [
    {
     "data": {
      "text/plain": [
       "CloudMicroVisOD    0.000000\n",
       "FP_power           9.950916\n",
       "dtype: float64"
      ]
     },
     "execution_count": 54,
     "metadata": {},
     "output_type": "execute_result"
    }
   ],
   "source": [
    "df[ ['CloudMicroVisOD','FP_power'] ][  (df['CloudMicroVisOD'] == 0.0) & (df['FP_power'] >= 0.0)      ].mean()"
   ]
  },
  {
   "cell_type": "code",
   "execution_count": null,
   "id": "4431b994",
   "metadata": {},
   "outputs": [],
   "source": []
  },
  {
   "cell_type": "code",
   "execution_count": null,
   "id": "b812b3ee",
   "metadata": {},
   "outputs": [],
   "source": []
  },
  {
   "cell_type": "code",
   "execution_count": null,
   "id": "e1401fce",
   "metadata": {},
   "outputs": [],
   "source": []
  },
  {
   "cell_type": "code",
   "execution_count": null,
   "id": "92258b35",
   "metadata": {},
   "outputs": [],
   "source": []
  },
  {
   "cell_type": "code",
   "execution_count": null,
   "id": "25a2e2ed",
   "metadata": {},
   "outputs": [],
   "source": []
  },
  {
   "cell_type": "code",
   "execution_count": null,
   "id": "62634d63",
   "metadata": {},
   "outputs": [],
   "source": []
  },
  {
   "cell_type": "code",
   "execution_count": null,
   "id": "0bb2b927",
   "metadata": {},
   "outputs": [],
   "source": []
  },
  {
   "cell_type": "code",
   "execution_count": null,
   "id": "d90e8f42",
   "metadata": {},
   "outputs": [],
   "source": []
  },
  {
   "cell_type": "code",
   "execution_count": null,
   "id": "892c5a27",
   "metadata": {},
   "outputs": [],
   "source": []
  }
 ],
 "metadata": {
  "kernelspec": {
   "display_name": "worklab",
   "language": "python",
   "name": "worklab"
  },
  "language_info": {
   "codemirror_mode": {
    "name": "ipython",
    "version": 3
   },
   "file_extension": ".py",
   "mimetype": "text/x-python",
   "name": "python",
   "nbconvert_exporter": "python",
   "pygments_lexer": "ipython3",
   "version": "3.9.12"
  }
 },
 "nbformat": 4,
 "nbformat_minor": 5
}
