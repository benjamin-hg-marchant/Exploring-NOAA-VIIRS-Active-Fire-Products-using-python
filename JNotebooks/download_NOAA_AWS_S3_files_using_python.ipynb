{
 "cells": [
  {
   "cell_type": "markdown",
   "id": "ee6b38c3",
   "metadata": {},
   "source": [
    "<div style=\"background-color:#3c3d41;padding:30px;border-radius:5px\">\n",
    "\n",
    "<h1 style=\"font-size:22px;color:white;margin-top:0px\">\n",
    "How to download files from NOAA JPSS AWS S3 Bucket using python ?\n",
    "</h1>\n",
    "\n",
    "<p style=\"font-size:14px;color:white\">\n",
    "Author: Benjamin Marchant<br>\n",
    "License: CC BY 4.0\n",
    "</p>\n",
    "  \n",
    "</div>\n",
    "\n",
    "Using python to download files stored in the NOAA JPSS AWS S3 Bucket is a easy process. First, you will need to install boto3, a Python client library for Amazon Web Services that extends the functionality of the AWS SDK. Once installed, you can access your bucket and its contents without providing any credentials. \n",
    "\n",
    "see [noaa-jpss.](https://noaa-jpss.s3.amazonaws.com/index.html)"
   ]
  },
  {
   "cell_type": "code",
   "execution_count": 1,
   "id": "97612cfa",
   "metadata": {},
   "outputs": [],
   "source": [
    "import boto3\n",
    "import os\n",
    "\n",
    "from botocore import UNSIGNED\n",
    "from botocore.config import Config\n",
    "from calendar import monthrange\n",
    "from os import path"
   ]
  },
  {
   "cell_type": "markdown",
   "id": "47ad5219",
   "metadata": {},
   "source": [
    "Please provide the directory path where you would like the files to be downloaded:"
   ]
  },
  {
   "cell_type": "code",
   "execution_count": 2,
   "id": "084c2581",
   "metadata": {},
   "outputs": [],
   "source": [
    "local_dir = \"/Volumes/HD2/Datasets/Research/NOAA_AWS\""
   ]
  },
  {
   "cell_type": "markdown",
   "id": "c0cc6e79",
   "metadata": {},
   "source": [
    "## Get list of available files for one day and one product"
   ]
  },
  {
   "cell_type": "code",
   "execution_count": 53,
   "id": "12f9cbd5",
   "metadata": {},
   "outputs": [],
   "source": [
    "platform = \"SNPP\" #\"SNPP\"\n",
    "instrument = \"VIIRS\"\n",
    "#product = \"SNPP_AF_I-Band_EDR_NRT\"\n",
    "product = 'AF_Iband_VIIRS_EDR'  #\"SNPP_VIIRS_AF_I-Band_EDR_NRT\"\n",
    "year = 2023\n",
    "month = 1\n",
    "day = 9"
   ]
  },
  {
   "cell_type": "code",
   "execution_count": 54,
   "id": "881ab48d",
   "metadata": {},
   "outputs": [],
   "source": [
    "s3 = boto3.resource('s3', config=Config(signature_version=UNSIGNED))\n",
    "\n",
    "bucket_name = \"noaa-nesdis-n20-pds\" #noaa-nesdis-snpp-pds, noaa-nesdis-n20-pds, noaa-nesdis-n21-pds, noaa-jpss"
   ]
  },
  {
   "cell_type": "code",
   "execution_count": 55,
   "id": "2907eef6",
   "metadata": {},
   "outputs": [
    {
     "data": {
      "text/plain": [
       "s3.ServiceResource()"
      ]
     },
     "execution_count": 55,
     "metadata": {},
     "output_type": "execute_result"
    }
   ],
   "source": [
    "s3"
   ]
  },
  {
   "cell_type": "code",
   "execution_count": 56,
   "id": "7ec9f334",
   "metadata": {},
   "outputs": [
    {
     "data": {
      "text/plain": [
       "'SNPP/VIIRS/AF_Iband_VIIRS_EDR/2023/01/09/'"
      ]
     },
     "execution_count": 56,
     "metadata": {},
     "output_type": "execute_result"
    }
   ],
   "source": [
    "\"{}/{}/{}/{:04d}/{:02d}/{:02d}/\".format(platform,instrument,product,year,month,day)"
   ]
  },
  {
   "cell_type": "code",
   "execution_count": 57,
   "id": "1d2b64a5",
   "metadata": {},
   "outputs": [
    {
     "data": {
      "text/plain": [
       "'AF_Iband_VIIRS_EDR/2023/01/09/'"
      ]
     },
     "execution_count": 57,
     "metadata": {},
     "output_type": "execute_result"
    }
   ],
   "source": [
    "\"{}/{:04d}/{:02d}/{:02d}/\".format(product,year,month,day)"
   ]
  },
  {
   "cell_type": "code",
   "execution_count": 58,
   "id": "125c3d87",
   "metadata": {},
   "outputs": [],
   "source": [
    "#folder = \"{}/{}/{}/{:04d}/{:02d}/{:02d}/\".format(platform,instrument,product,year,month,day)\n",
    "\n",
    "folder = \"{}/{:04d}/{:02d}/{:02d}/\".format(product,year,month,day)\n",
    "\n",
    "s3_bucket = s3.Bucket(bucket_name)\n",
    "\n",
    "files_in_s3 = [f.key.split(folder + \"/\")[0] for f in s3_bucket.objects.filter(Prefix=folder).all()]"
   ]
  },
  {
   "cell_type": "code",
   "execution_count": 59,
   "id": "363f5f97",
   "metadata": {},
   "outputs": [
    {
     "data": {
      "text/plain": [
       "s3.Bucket(name='noaa-nesdis-n20-pds')"
      ]
     },
     "execution_count": 59,
     "metadata": {},
     "output_type": "execute_result"
    }
   ],
   "source": [
    "s3_bucket"
   ]
  },
  {
   "cell_type": "code",
   "execution_count": 60,
   "id": "80326770",
   "metadata": {},
   "outputs": [
    {
     "data": {
      "text/plain": [
       "1012"
      ]
     },
     "execution_count": 60,
     "metadata": {},
     "output_type": "execute_result"
    }
   ],
   "source": [
    "len(files_in_s3)"
   ]
  },
  {
   "cell_type": "code",
   "execution_count": 61,
   "id": "750d8292",
   "metadata": {},
   "outputs": [
    {
     "data": {
      "text/plain": [
       "['AF_Iband_VIIRS_EDR/2023/01/09/AF-Iband_v1r1_j01_s202301090001089_e202301090002335_c202301090044143.nc',\n",
       " 'AF_Iband_VIIRS_EDR/2023/01/09/AF-Iband_v1r1_j01_s202301090002347_e202301090003592_c202301090044584.nc',\n",
       " 'AF_Iband_VIIRS_EDR/2023/01/09/AF-Iband_v1r1_j01_s202301090004004_e202301090005250_c202301090045460.nc',\n",
       " 'AF_Iband_VIIRS_EDR/2023/01/09/AF-Iband_v1r1_j01_s202301090005262_e202301090006507_c202301090046262.nc',\n",
       " 'AF_Iband_VIIRS_EDR/2023/01/09/AF-Iband_v1r1_j01_s202301090006520_e202301090008147_c202301090046025.nc',\n",
       " 'AF_Iband_VIIRS_EDR/2023/01/09/AF-Iband_v1r1_j01_s202301090008159_e202301090009404_c202301090044209.nc',\n",
       " 'AF_Iband_VIIRS_EDR/2023/01/09/AF-Iband_v1r1_j01_s202301090009417_e202301090011062_c202301090048112.nc',\n",
       " 'AF_Iband_VIIRS_EDR/2023/01/09/AF-Iband_v1r1_j01_s202301090011074_e202301090012320_c202301090049154.nc',\n",
       " 'AF_Iband_VIIRS_EDR/2023/01/09/AF-Iband_v1r1_j01_s202301090012332_e202301090013559_c202301090049102.nc',\n",
       " 'AF_Iband_VIIRS_EDR/2023/01/09/AF-Iband_v1r1_j01_s202301090013572_e202301090015217_c202301090049258.nc']"
      ]
     },
     "execution_count": 61,
     "metadata": {},
     "output_type": "execute_result"
    }
   ],
   "source": [
    "files_in_s3[:10]"
   ]
  },
  {
   "cell_type": "markdown",
   "id": "88b5f0f4",
   "metadata": {},
   "source": [
    "## Download one file"
   ]
  },
  {
   "cell_type": "code",
   "execution_count": 8,
   "id": "e8f1f606",
   "metadata": {},
   "outputs": [
    {
     "data": {
      "text/plain": [
       "'AF-Iband_v1r0_npp_s202209082232478_e202209082234120_c202209090027207.nc'"
      ]
     },
     "execution_count": 8,
     "metadata": {},
     "output_type": "execute_result"
    }
   ],
   "source": [
    "filename = files_in_s3[0].split('/')[-1]\n",
    "\n",
    "filename"
   ]
  },
  {
   "cell_type": "code",
   "execution_count": 9,
   "id": "4fb9d8fe",
   "metadata": {},
   "outputs": [
    {
     "data": {
      "text/plain": [
       "'SNPP/VIIRS/SNPP_AF_I-Band_EDR_NRT/2022/09/09/'"
      ]
     },
     "execution_count": 9,
     "metadata": {},
     "output_type": "execute_result"
    }
   ],
   "source": [
    "files_in_s3[0].replace(filename,'')"
   ]
  },
  {
   "cell_type": "code",
   "execution_count": 10,
   "id": "55d30a02",
   "metadata": {},
   "outputs": [],
   "source": [
    "s3 = boto3.client('s3', config=Config(signature_version=UNSIGNED))\n",
    "\n",
    "bucket_dir = files_in_s3[0].replace(filename,'')\n",
    "\n",
    "filename = filename\n",
    "\n",
    "s3.download_file(Filename=filename,Bucket=bucket_name,Key=bucket_dir + filename)"
   ]
  },
  {
   "cell_type": "markdown",
   "id": "45700c0a",
   "metadata": {},
   "source": [
    "## Create a loop to download multiple files"
   ]
  },
  {
   "cell_type": "code",
   "execution_count": 65,
   "id": "f440a3df",
   "metadata": {
    "scrolled": false
   },
   "outputs": [
    {
     "name": "stderr",
     "output_type": "stream",
     "text": [
      "mkdir: /Volumes/HD2/Datasets/Research/NOAA_AWS/NOAA20: File exists\n",
      "mkdir: /Volumes/HD2/Datasets/Research/NOAA_AWS/NOAA20/VIIRS: File exists\n",
      "mkdir: /Volumes/HD2/Datasets/Research/NOAA_AWS/NOAA20/VIIRS/AF_Iband_VIIRS_EDR: File exists\n",
      "mkdir: /Volumes/HD2/Datasets/Research/NOAA_AWS/NOAA20/VIIRS/AF_Iband_VIIRS_EDR/2023: File exists\n",
      "mkdir: /Volumes/HD2/Datasets/Research/NOAA_AWS/NOAA20/VIIRS/AF_Iband_VIIRS_EDR/2023/2023_02_20: File exists\n"
     ]
    },
    {
     "name": "stdout",
     "output_type": "stream",
     "text": [
      "CPU times: user 9.71 s, sys: 5.12 s, total: 14.8 s\n",
      "Wall time: 3min 33s\n"
     ]
    }
   ],
   "source": [
    "%%time\n",
    "\n",
    "instrument = \"VIIRS\"\n",
    "\n",
    "bucket_name = \"noaa-nesdis-n20-pds\"\n",
    "\n",
    "platforms = [\"NOAA20\"]    #[\"SNPP\"]  [\"NOAA20\"]\n",
    "#products = [\"SNPP_VIIRS_AF_I-Band_EDR_NRT\"]\n",
    "products = [\"AF_Iband_VIIRS_EDR\"]\n",
    "product = \"AF_Iband_VIIRS_EDR\" #\n",
    "#products = [\"SNPP_VIIRS_I-Band_01_SDR_SVI01_NRT\"]\n",
    "#products = [\"SNPP_VIIRS_I-Band_02_SDR_SVI02_NRT\"]\n",
    "#products = [\"SNPP_VIIRS_I-Band_03_SDR_SVI03_NRT\"]\n",
    "#products = [\"SNPP_VIIRS_I-Band_04_SDR_SVI04_NRT\"]\n",
    "#products = [\"SNPP_VIIRS_I-Band_05_SDR_SVI05_NRT\"]\n",
    "#products = [\"SNPP_VIIRS_M-Band_13_SDR_SVM13_NRT\"]\n",
    "#products = [\"SNPP_VIIRS_I-Band_SDR_TC_GEO_GITCO_NRT\"]\n",
    "#products = [\"SNPP_VIIRS_Cloud_Mask_EDR\"]\n",
    "#products = [\"SNPP_VIIRS_Daytime_Cloud_Optical_and_Microphysical_Properties_(DCOMP)_EDR\"]\n",
    "#products = [\"SNPP_VIIRS_Aerosol_Detection_EDR\"]\n",
    "#products = [\"SNPP_VIIRS_Aerosol_Optical_Depth_EDR\"]\n",
    "\n",
    "#product = \n",
    "\n",
    "year = 2023\n",
    "\n",
    "for platform in platforms:\n",
    "\n",
    "    cmd = 'mkdir {}/{}'.format(local_dir,platform)\n",
    "        \n",
    "    os.system(cmd)\n",
    "    \n",
    "    cmd = 'mkdir {}/{}/{}'.format(local_dir,platform,instrument)\n",
    "        \n",
    "    os.system(cmd)\n",
    "    \n",
    "    for product in products:\n",
    "        \n",
    "        product = product.replace('(','')\n",
    "        product = product.replace(')','')\n",
    "\n",
    "        cmd = 'mkdir {}/{}/{}/{}'.format(local_dir,platform,instrument,product)\n",
    "\n",
    "        os.system(cmd)     \n",
    "        \n",
    "        cmd = 'mkdir {}/{}/{}/{}/{}'.format(local_dir,platform,instrument,product,year)\n",
    "\n",
    "        os.system(cmd)  \n",
    "        \n",
    "months = [2]\n",
    "\n",
    "s3r = boto3.resource('s3', config=Config(signature_version=UNSIGNED))\n",
    "s3c = boto3.client('s3', config=Config(signature_version=UNSIGNED))\n",
    "\n",
    "s3_bucket = s3r.Bucket(bucket_name)\n",
    "\n",
    "for month in months:\n",
    "    \n",
    "    for day in [20]: #range(1,monthrange(year, month)[1]+1):\n",
    "        \n",
    "        product = products[0]\n",
    "        product_local = products[0]\n",
    "        \n",
    "        product_local = product_local.replace('(','')\n",
    "        product_local = product_local.replace(')','')\n",
    "        \n",
    "        current_date = \"{:04d}_{:02d}_{:02d}\".format(year,month,day)\n",
    "        \n",
    "        output_dir = '{}/{}/{}/{}/{}/{}'.format(local_dir,platform,instrument,product_local,year,current_date)\n",
    "        \n",
    "        cmd = 'mkdir {}'.format(output_dir)\n",
    "\n",
    "        os.system(cmd)  \n",
    "        \n",
    "        #folder = \"{}/{}/{}/{:04d}/{:02d}/{:02d}/\".format(platform,instrument,product,year,month,day)\n",
    "        folder = \"{}/{:04d}/{:02d}/{:02d}/\".format(product,year,month,day)\n",
    "        \n",
    "        files_in_s3 = [f.key.split(folder + \"/\")[0] for f in s3_bucket.objects.filter(Prefix=folder).all()]\n",
    "        \n",
    "        for file in files_in_s3:\n",
    "            \n",
    "            filename = file.split('/')[-1]\n",
    "            \n",
    "            bucket_dir = file.replace(filename,'')\n",
    "            \n",
    "            if not path.exists('{}/{}'.format(output_dir,filename)):\n",
    "\n",
    "                s3c.download_file(Filename=filename,Bucket=bucket_name,Key=bucket_dir + filename)\n",
    "            \n",
    "                cmd = 'mv {} {}/.'.format(filename,output_dir)\n",
    "        \n",
    "                os.system(cmd)"
   ]
  },
  {
   "cell_type": "code",
   "execution_count": null,
   "id": "2c478969",
   "metadata": {},
   "outputs": [],
   "source": []
  },
  {
   "cell_type": "code",
   "execution_count": null,
   "id": "87b8fcdb",
   "metadata": {},
   "outputs": [],
   "source": []
  },
  {
   "cell_type": "code",
   "execution_count": null,
   "id": "bd28a8d5",
   "metadata": {},
   "outputs": [],
   "source": []
  },
  {
   "cell_type": "code",
   "execution_count": null,
   "id": "37cc83d0",
   "metadata": {},
   "outputs": [],
   "source": []
  },
  {
   "cell_type": "code",
   "execution_count": null,
   "id": "a3a52bb1",
   "metadata": {},
   "outputs": [],
   "source": []
  },
  {
   "cell_type": "code",
   "execution_count": null,
   "id": "d130c72f",
   "metadata": {},
   "outputs": [],
   "source": []
  },
  {
   "cell_type": "code",
   "execution_count": null,
   "id": "0eabe6f0",
   "metadata": {},
   "outputs": [],
   "source": []
  },
  {
   "cell_type": "code",
   "execution_count": null,
   "id": "820f8e2d",
   "metadata": {},
   "outputs": [],
   "source": []
  },
  {
   "cell_type": "code",
   "execution_count": null,
   "id": "b0f592f0",
   "metadata": {},
   "outputs": [],
   "source": []
  }
 ],
 "metadata": {
  "kernelspec": {
   "display_name": "worklab",
   "language": "python",
   "name": "worklab"
  },
  "language_info": {
   "codemirror_mode": {
    "name": "ipython",
    "version": 3
   },
   "file_extension": ".py",
   "mimetype": "text/x-python",
   "name": "python",
   "nbconvert_exporter": "python",
   "pygments_lexer": "ipython3",
   "version": "3.9.12"
  }
 },
 "nbformat": 4,
 "nbformat_minor": 5
}
